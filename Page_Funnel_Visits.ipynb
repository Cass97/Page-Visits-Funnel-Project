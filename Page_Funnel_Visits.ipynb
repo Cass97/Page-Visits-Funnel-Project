{
 "cells": [
  {
   "cell_type": "code",
   "execution_count": 2,
   "metadata": {},
   "outputs": [],
   "source": [
    "import pandas as pd"
   ]
  },
  {
   "cell_type": "markdown",
   "metadata": {},
   "source": [
    "Import all the files"
   ]
  },
  {
   "cell_type": "code",
   "execution_count": 4,
   "metadata": {},
   "outputs": [],
   "source": [
    "visits = pd.read_csv('visits.csv',\n",
    "                     parse_dates=[1])\n",
    "cart = pd.read_csv('cart.csv',\n",
    "                   parse_dates=[1])\n",
    "                   \n",
    "checkout = pd.read_csv('checkout.csv',\n",
    "                       parse_dates=[1])\n",
    "purchase = pd.read_csv('purchase.csv',\n",
    "                       parse_dates=[1])"
   ]
  },
  {
   "cell_type": "markdown",
   "metadata": {},
   "source": [
    "Step 1: Inspect the DataFrames using `print` and `head`"
   ]
  },
  {
   "cell_type": "code",
   "execution_count": 5,
   "metadata": {},
   "outputs": [
    {
     "name": "stdout",
     "output_type": "stream",
     "text": [
      "                                user_id          visit_time\n",
      "0  943647ef-3682-4750-a2e1-918ba6f16188 2017-04-07 15:14:00\n",
      "1  0c3a3dd0-fb64-4eac-bf84-ba069ce409f2 2017-01-26 14:24:00\n",
      "2  6e0b2d60-4027-4d9a-babd-0e7d40859fb1 2017-08-20 08:23:00\n",
      "3  6879527e-c5a6-4d14-b2da-50b85212b0ab 2017-11-04 18:15:00\n",
      "4  a84327ff-5daa-4ba1-b789-d5b4caf81e96 2017-02-27 11:25:00\n",
      "                                user_id           cart_time\n",
      "0  2be90e7c-9cca-44e0-bcc5-124b945ff168 2017-11-07 20:45:00\n",
      "1  4397f73f-1da3-4ab3-91af-762792e25973 2017-05-27 01:35:00\n",
      "2  a9db3d4b-0a0a-4398-a55a-ebb2c7adf663 2017-03-04 10:38:00\n",
      "3  b594862a-36c5-47d5-b818-6e9512b939b3 2017-09-27 08:22:00\n",
      "4  a68a16e2-94f0-4ce8-8ce3-784af0bbb974 2017-07-26 15:48:00\n",
      "                                user_id       checkout_time\n",
      "0  d33bdc47-4afa-45bc-b4e4-dbe948e34c0d 2017-06-25 09:29:00\n",
      "1  4ac186f0-9954-4fea-8a27-c081e428e34e 2017-04-07 20:11:00\n",
      "2  3c9c78a7-124a-4b77-8d2e-e1926e011e7d 2017-07-13 11:38:00\n",
      "3  89fe330a-8966-4756-8f7c-3bdbcd47279a 2017-04-20 16:15:00\n",
      "4  3ccdaf69-2d30-40de-b083-51372881aedd 2017-01-08 20:52:00\n",
      "                                user_id       purchase_time\n",
      "0  4b44ace4-2721-47a0-b24b-15fbfa2abf85 2017-05-11 04:25:00\n",
      "1  02e684ae-a448-408f-a9ff-dcb4a5c99aac 2017-09-05 08:45:00\n",
      "2  4b4bc391-749e-4b90-ab8f-4f6e3c84d6dc 2017-11-20 20:49:00\n",
      "3  a5dbb25f-3c36-4103-9030-9f7c6241cd8d 2017-01-22 15:18:00\n",
      "4  46a3186d-7f5a-4ab9-87af-84d05bfd4867 2017-06-11 11:32:00\n"
     ]
    }
   ],
   "source": [
    "print(visits.head(5))\n",
    "print(cart.head(5))\n",
    "print(checkout.head(5))\n",
    "print(purchase.head(5))"
   ]
  },
  {
   "cell_type": "markdown",
   "metadata": {},
   "source": [
    "Step 2: Left merging visits and cart"
   ]
  },
  {
   "cell_type": "code",
   "execution_count": 19,
   "metadata": {},
   "outputs": [
    {
     "name": "stdout",
     "output_type": "stream",
     "text": [
      "    index                               user_id          visit_time  \\\n",
      "0       0  943647ef-3682-4750-a2e1-918ba6f16188 2017-04-07 15:14:00   \n",
      "1       1  0c3a3dd0-fb64-4eac-bf84-ba069ce409f2 2017-01-26 14:24:00   \n",
      "2       2  6e0b2d60-4027-4d9a-babd-0e7d40859fb1 2017-08-20 08:23:00   \n",
      "3       3  6879527e-c5a6-4d14-b2da-50b85212b0ab 2017-11-04 18:15:00   \n",
      "4       4  a84327ff-5daa-4ba1-b789-d5b4caf81e96 2017-02-27 11:25:00   \n",
      "5       5  7bc62113-d51d-4e6b-85e0-1cf29e3de74a 2017-06-03 20:05:00   \n",
      "6       6  6f22cd44-bc63-4449-a9af-2651859da2f9 2017-03-18 23:09:00   \n",
      "7       7  49a6399b-c095-4e42-92eb-af90abe2bb6a 2017-01-10 12:09:00   \n",
      "8       8  653c095d-fd74-40dd-ae3b-5a69a2613629 2017-06-27 19:21:00   \n",
      "9       9  3d9fdac1-aae3-4a01-b448-934d12047468 2017-09-24 06:43:00   \n",
      "10     10  1955acc9-5228-4277-beed-fd23f0f355b3 2017-04-20 23:01:00   \n",
      "11     11  a627ba57-b34d-4166-8b78-1ff3f46f5478 2017-08-11 13:41:00   \n",
      "12     12  10d5a3e0-1d72-4bea-9670-f0f0234d6e48 2017-02-26 10:09:00   \n",
      "13     13  0c1fa5fe-27c1-4e1f-b353-26a428da2832 2017-07-04 09:56:00   \n",
      "14     14  486480e2-98c3-4d51-8f4b-b1c07228ce84 2017-01-27 16:34:00   \n",
      "15     15  2f954f3f-e621-4be2-9d3f-e9dc8afe38dd 2017-10-19 03:22:00   \n",
      "16     16  7a3030d1-37a4-4ed1-a410-84f50f991903 2017-09-05 18:27:00   \n",
      "17     17  d8b14a61-cc64-4e56-be6e-cd8d3b35eece 2017-08-22 15:55:00   \n",
      "18     18  a9e73e1a-0fd1-4514-b163-03a76a216069 2017-04-02 06:40:00   \n",
      "19     19  335fe581-92e1-4f3c-a5f4-2600f50007a9 2017-11-08 14:39:00   \n",
      "\n",
      "             cart_time  \n",
      "0                  NaT  \n",
      "1  2017-01-26 14:44:00  \n",
      "2  2017-08-20 08:31:00  \n",
      "3                  NaT  \n",
      "4                  NaT  \n",
      "5                  NaT  \n",
      "6                  NaT  \n",
      "7                  NaT  \n",
      "8                  NaT  \n",
      "9                  NaT  \n",
      "10                 NaT  \n",
      "11                 NaT  \n",
      "12                 NaT  \n",
      "13                 NaT  \n",
      "14 2017-01-27 16:44:00  \n",
      "15                 NaT  \n",
      "16                 NaT  \n",
      "17                 NaT  \n",
      "18                 NaT  \n",
      "19                 NaT  \n"
     ]
    }
   ],
   "source": [
    "visits_cart = pd.merge(visits, cart, how='left').reset_index()\n",
    "print(visits_cart.head(20))"
   ]
  },
  {
   "cell_type": "markdown",
   "metadata": {},
   "source": [
    "Step 3: How long is `visits_cart`?"
   ]
  },
  {
   "cell_type": "code",
   "execution_count": 17,
   "metadata": {},
   "outputs": [
    {
     "name": "stdout",
     "output_type": "stream",
     "text": [
      "2000\n"
     ]
    }
   ],
   "source": [
    "print(visits_cart.user_id.count())"
   ]
  },
  {
   "cell_type": "markdown",
   "metadata": {},
   "source": [
    "Step 4: How many timestamps are null for `cart_time`?"
   ]
  },
  {
   "cell_type": "code",
   "execution_count": 23,
   "metadata": {
    "scrolled": true
   },
   "outputs": [
    {
     "name": "stdout",
     "output_type": "stream",
     "text": [
      "index         1652\n",
      "user_id       1652\n",
      "visit_time    1652\n",
      "cart_time        0\n",
      "dtype: int64\n"
     ]
    }
   ],
   "source": [
    "print((visits_cart[visits_cart['cart_time'].isnull()]).count())\n",
    "#This number represents all of the people who did not add anything to their cart - i.e. visited only"
   ]
  },
  {
   "cell_type": "markdown",
   "metadata": {},
   "source": [
    "Step 5: What percentage only visited?"
   ]
  },
  {
   "cell_type": "code",
   "execution_count": 24,
   "metadata": {},
   "outputs": [
    {
     "name": "stdout",
     "output_type": "stream",
     "text": [
      "0.826\n"
     ]
    }
   ],
   "source": [
    "#The percentage of visit only is taken by the total number of visitors\n",
    "percentage_visit_only = 1652/2000\n",
    "print(percentage_visit_only)"
   ]
  },
  {
   "cell_type": "markdown",
   "metadata": {},
   "source": [
    "Step 6: What percentage placed a t-shirt in their cart but did not checkout?"
   ]
  },
  {
   "cell_type": "code",
   "execution_count": 31,
   "metadata": {},
   "outputs": [
    {
     "name": "stdout",
     "output_type": "stream",
     "text": [
      "348\n",
      "user_id          122\n",
      "cart_time        122\n",
      "checkout_time      0\n",
      "dtype: int64\n",
      "user_id          0.350575\n",
      "cart_time        0.350575\n",
      "checkout_time    0.000000\n",
      "dtype: float64\n"
     ]
    }
   ],
   "source": [
    "cart_checkout = pd.merge(cart, checkout, how='left')\n",
    "total_cart = cart_checkout.user_id.count()\n",
    "null_checkout = cart_checkout[cart_checkout['checkout_time'].isnull()].count()\n",
    "print(total_cart)\n",
    "print(null_checkout)\n",
    "percentage_null_checkout = null_checkout/total_cart\n",
    "print(percentage_null_checkout)"
   ]
  },
  {
   "cell_type": "markdown",
   "metadata": {},
   "source": [
    "Step 7: Merge it all together"
   ]
  },
  {
   "cell_type": "code",
   "execution_count": 34,
   "metadata": {},
   "outputs": [
    {
     "name": "stdout",
     "output_type": "stream",
     "text": [
      "                                 user_id          visit_time  \\\n",
      "0   943647ef-3682-4750-a2e1-918ba6f16188 2017-04-07 15:14:00   \n",
      "1   0c3a3dd0-fb64-4eac-bf84-ba069ce409f2 2017-01-26 14:24:00   \n",
      "2   6e0b2d60-4027-4d9a-babd-0e7d40859fb1 2017-08-20 08:23:00   \n",
      "3   6879527e-c5a6-4d14-b2da-50b85212b0ab 2017-11-04 18:15:00   \n",
      "4   a84327ff-5daa-4ba1-b789-d5b4caf81e96 2017-02-27 11:25:00   \n",
      "5   7bc62113-d51d-4e6b-85e0-1cf29e3de74a 2017-06-03 20:05:00   \n",
      "6   6f22cd44-bc63-4449-a9af-2651859da2f9 2017-03-18 23:09:00   \n",
      "7   49a6399b-c095-4e42-92eb-af90abe2bb6a 2017-01-10 12:09:00   \n",
      "8   653c095d-fd74-40dd-ae3b-5a69a2613629 2017-06-27 19:21:00   \n",
      "9   3d9fdac1-aae3-4a01-b448-934d12047468 2017-09-24 06:43:00   \n",
      "10  1955acc9-5228-4277-beed-fd23f0f355b3 2017-04-20 23:01:00   \n",
      "11  a627ba57-b34d-4166-8b78-1ff3f46f5478 2017-08-11 13:41:00   \n",
      "12  10d5a3e0-1d72-4bea-9670-f0f0234d6e48 2017-02-26 10:09:00   \n",
      "13  0c1fa5fe-27c1-4e1f-b353-26a428da2832 2017-07-04 09:56:00   \n",
      "14  486480e2-98c3-4d51-8f4b-b1c07228ce84 2017-01-27 16:34:00   \n",
      "15  2f954f3f-e621-4be2-9d3f-e9dc8afe38dd 2017-10-19 03:22:00   \n",
      "16  7a3030d1-37a4-4ed1-a410-84f50f991903 2017-09-05 18:27:00   \n",
      "17  d8b14a61-cc64-4e56-be6e-cd8d3b35eece 2017-08-22 15:55:00   \n",
      "18  a9e73e1a-0fd1-4514-b163-03a76a216069 2017-04-02 06:40:00   \n",
      "19  335fe581-92e1-4f3c-a5f4-2600f50007a9 2017-11-08 14:39:00   \n",
      "\n",
      "             cart_time       checkout_time       purchase_time  \n",
      "0                  NaT                 NaT                 NaT  \n",
      "1  2017-01-26 14:44:00 2017-01-26 14:54:00 2017-01-26 15:08:00  \n",
      "2  2017-08-20 08:31:00                 NaT                 NaT  \n",
      "3                  NaT                 NaT                 NaT  \n",
      "4                  NaT                 NaT                 NaT  \n",
      "5                  NaT                 NaT                 NaT  \n",
      "6                  NaT                 NaT                 NaT  \n",
      "7                  NaT                 NaT                 NaT  \n",
      "8                  NaT                 NaT                 NaT  \n",
      "9                  NaT                 NaT                 NaT  \n",
      "10                 NaT                 NaT                 NaT  \n",
      "11                 NaT                 NaT                 NaT  \n",
      "12                 NaT                 NaT                 NaT  \n",
      "13                 NaT                 NaT                 NaT  \n",
      "14 2017-01-27 16:44:00 2017-01-27 17:10:00 2017-01-27 17:12:00  \n",
      "15                 NaT                 NaT                 NaT  \n",
      "16                 NaT                 NaT                 NaT  \n",
      "17                 NaT                 NaT                 NaT  \n",
      "18                 NaT                 NaT                 NaT  \n",
      "19                 NaT                 NaT                 NaT  \n"
     ]
    }
   ],
   "source": [
    "all_data = visits.merge(cart, how='left').merge(checkout, how='left').merge(purchase, how='left')\n",
    "print(all_data.head(20))\n"
   ]
  },
  {
   "cell_type": "markdown",
   "metadata": {},
   "source": [
    "Step 8: % of users who got to checkout but did not purchase"
   ]
  },
  {
   "cell_type": "code",
   "execution_count": 47,
   "metadata": {},
   "outputs": [
    {
     "name": "stdout",
     "output_type": "stream",
     "text": [
      "user_id          334\n",
      "visit_time       334\n",
      "cart_time        334\n",
      "checkout_time    334\n",
      "purchase_time    252\n",
      "total_time       252\n",
      "dtype: int64\n",
      "user_id          82\n",
      "visit_time       82\n",
      "cart_time        82\n",
      "checkout_time    82\n",
      "purchase_time     0\n",
      "total_time        0\n",
      "dtype: int64\n",
      "user_id          0.245509\n",
      "visit_time       0.245509\n",
      "cart_time        0.245509\n",
      "checkout_time    0.245509\n",
      "purchase_time    0.000000\n",
      "total_time       0.000000\n",
      "dtype: float64\n"
     ]
    }
   ],
   "source": [
    "rch = all_data[~all_data.checkout_time.isnull()].count()\n",
    "chnp = (all_data[(all_data.purchase_time.isnull()) & ~(all_data.checkout_time.isnull())]).count()\n",
    "print(rch)\n",
    "print(chnp)\n",
    "\n",
    "#% who reached checkout with no purchase\n",
    "print(chnp/rch)\n"
   ]
  },
  {
   "cell_type": "markdown",
   "metadata": {},
   "source": [
    "Step 9: check each part of the funnel, let's print all 3 of them again"
   ]
  },
  {
   "cell_type": "code",
   "execution_count": 38,
   "metadata": {},
   "outputs": [],
   "source": [
    "#Summarising results from above:\n",
    "# %visit only = 82.6%\n",
    "# %cart, no checkout = 35.05%\n",
    "# %checkout, no purchase = 24.55%\n",
    "\n",
    "#Clear that the weak part of the funnel is people visiting but not adding anything to cart"
   ]
  },
  {
   "cell_type": "markdown",
   "metadata": {},
   "source": [
    "*The weakest part of the funnel is clearly getting a person who visited the site to add a tshirt to their cart. Once they've added a t-shirt to their cart it is fairly likely they end up purchasing it. A suggestion could be to make the add-to-cart button more prominent on the front page.*\n",
    "\n",
    "\n",
    "Step 10: adding new column"
   ]
  },
  {
   "cell_type": "code",
   "execution_count": 40,
   "metadata": {},
   "outputs": [
    {
     "name": "stdout",
     "output_type": "stream",
     "text": [
      "                                user_id          visit_time  \\\n",
      "0  943647ef-3682-4750-a2e1-918ba6f16188 2017-04-07 15:14:00   \n",
      "1  0c3a3dd0-fb64-4eac-bf84-ba069ce409f2 2017-01-26 14:24:00   \n",
      "2  6e0b2d60-4027-4d9a-babd-0e7d40859fb1 2017-08-20 08:23:00   \n",
      "3  6879527e-c5a6-4d14-b2da-50b85212b0ab 2017-11-04 18:15:00   \n",
      "4  a84327ff-5daa-4ba1-b789-d5b4caf81e96 2017-02-27 11:25:00   \n",
      "5  7bc62113-d51d-4e6b-85e0-1cf29e3de74a 2017-06-03 20:05:00   \n",
      "6  6f22cd44-bc63-4449-a9af-2651859da2f9 2017-03-18 23:09:00   \n",
      "7  49a6399b-c095-4e42-92eb-af90abe2bb6a 2017-01-10 12:09:00   \n",
      "8  653c095d-fd74-40dd-ae3b-5a69a2613629 2017-06-27 19:21:00   \n",
      "9  3d9fdac1-aae3-4a01-b448-934d12047468 2017-09-24 06:43:00   \n",
      "\n",
      "            cart_time       checkout_time       purchase_time      total_time  \n",
      "0                 NaT                 NaT                 NaT             NaT  \n",
      "1 2017-01-26 14:44:00 2017-01-26 14:54:00 2017-01-26 15:08:00 0 days 00:44:00  \n",
      "2 2017-08-20 08:31:00                 NaT                 NaT             NaT  \n",
      "3                 NaT                 NaT                 NaT             NaT  \n",
      "4                 NaT                 NaT                 NaT             NaT  \n",
      "5                 NaT                 NaT                 NaT             NaT  \n",
      "6                 NaT                 NaT                 NaT             NaT  \n",
      "7                 NaT                 NaT                 NaT             NaT  \n",
      "8                 NaT                 NaT                 NaT             NaT  \n",
      "9                 NaT                 NaT                 NaT             NaT  \n"
     ]
    }
   ],
   "source": [
    "all_data['total_time'] = all_data['purchase_time'] - all_data['visit_time']\n",
    "print(all_data.head(10))"
   ]
  },
  {
   "cell_type": "markdown",
   "metadata": {},
   "source": [
    "Step 11: examine the results"
   ]
  },
  {
   "cell_type": "code",
   "execution_count": null,
   "metadata": {},
   "outputs": [],
   "source": []
  },
  {
   "cell_type": "markdown",
   "metadata": {},
   "source": [
    "Step 12: average time to purchase"
   ]
  },
  {
   "cell_type": "code",
   "execution_count": 41,
   "metadata": {},
   "outputs": [
    {
     "name": "stdout",
     "output_type": "stream",
     "text": [
      "0 days 00:43:12.380952380\n"
     ]
    }
   ],
   "source": [
    "print(all_data.total_time.mean())"
   ]
  },
  {
   "cell_type": "code",
   "execution_count": null,
   "metadata": {},
   "outputs": [],
   "source": []
  }
 ],
 "metadata": {
  "kernelspec": {
   "display_name": "Python 3 (ipykernel)",
   "language": "python",
   "name": "python3"
  },
  "language_info": {
   "codemirror_mode": {
    "name": "ipython",
    "version": 3
   },
   "file_extension": ".py",
   "mimetype": "text/x-python",
   "name": "python",
   "nbconvert_exporter": "python",
   "pygments_lexer": "ipython3",
   "version": "3.9.12"
  }
 },
 "nbformat": 4,
 "nbformat_minor": 4
}
